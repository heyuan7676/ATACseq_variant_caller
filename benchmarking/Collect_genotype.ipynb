{
 "cells": [
  {
   "cell_type": "code",
   "execution_count": 2,
   "metadata": {},
   "outputs": [],
   "source": [
    "import numpy as np\n",
    "import pandas as pd\n",
    "from matplotlib import pyplot as plt\n",
    "from scipy.stats import binom_test \n",
    "import os\n",
    "\n",
    "import seaborn as sns\n",
    "sns.set(font_scale= 1.5)\n",
    "sns.set_style('whitegrid') \n",
    "\n",
    "import sys\n",
    "sys.path.append('/work-zfs/abattle4/heyuan/old_work_files/yuan/tools/python_lib/lib/python2.7/site-packages')\n",
    "\n",
    "from matplotlib_venn import venn3, venn2\n",
    "\n",
    "from statsmodels.stats.multitest import multipletests\n",
    "sns.set(font_scale= 1.5)\n",
    "sns.set_style('whitegrid')\n",
    "\n",
    "from scipy.stats import ranksums\n"
   ]
  },
  {
   "cell_type": "code",
   "execution_count": 54,
   "metadata": {},
   "outputs": [],
   "source": [
    "def read_in_WGS_GT(sample):\n",
    "    WGS_dir = '/work-zfs/abattle4/heyuan/Variant_calling/benchmarking/datasets/GBR/Genotype'\n",
    "\n",
    "    chromosome = 22\n",
    "    WGS_fn = '%s/1k_genome_chr%d.genotypes.tsv' % (WGS_dir, chromosome)\n",
    "    WGS_result = pd.read_csv(WGS_fn, comment = '$', sep='\\t', nrows = 10)\n",
    "    try:\n",
    "        col_to_read = list(WGS_result.columns).index(sample)\n",
    "    except:\n",
    "        print('%s does not have genotype data' % sample)\n",
    "        return \n",
    "    \n",
    "    WGS_result = pd.DataFrame()\n",
    "\n",
    "    for chromosome in range(1,23):\n",
    "        WGS_fn = '%s/1k_genome_chr%d.genotypes.tsv' % (WGS_dir, chromosome)\n",
    "        token = pd.read_csv(WGS_fn, \n",
    "                            comment = '$', \n",
    "                            sep='\\t', \n",
    "                            usecols=[0,1,2,col_to_read])\n",
    "        WGS_result = WGS_result.append(token)    \n",
    "        \n",
    "    WGS_result = WGS_result.drop_duplicates()\n",
    "        \n",
    "    return WGS_result"
   ]
  },
  {
   "cell_type": "code",
   "execution_count": 68,
   "metadata": {},
   "outputs": [],
   "source": [
    "def obtain_intersection_df(sample, minDP, WGS_result, restrict_to_SNP = True):\n",
    "    \n",
    "    WGS_result = WGS_result.copy()\n",
    "    \n",
    "    SNP_calling_dir = '/work-zfs/abattle4/heyuan/Variant_calling/benchmarking/datasets/GBR/ATAC_seq/alignment_bowtie'\n",
    "        \n",
    "    SNP_called_fn = '%s/%s-RG-dedup-hapcal.filtered.genotype.minDP%d.txt' % (SNP_calling_dir, sample, minDP)\n",
    "    SNP_called = pd.read_csv(SNP_called_fn, comment=\"$\", sep='\\t', nrows = 10)\n",
    "    try:\n",
    "        col_to_read = np.where([sample in x for x in SNP_called.columns])[0][0]\n",
    "    except:\n",
    "        print('%s does not called genotpye' % sample)\n",
    "        return\n",
    "    \n",
    "    SNP_called = pd.read_csv(SNP_called_fn, comment=\"$\", sep='\\t', usecols=[0, 1, 2, col_to_read])\n",
    "    SNP_called.columns = list(SNP_called.columns[:3]) + ['%s_called' % sample]\n",
    "    SNP_called['#CHROM'] = [int(x.replace('chr','')) for x in SNP_called['#CHROM']]\n",
    "    \n",
    "    # restrict to SNP\n",
    "    if restrict_to_SNP:\n",
    "        WGS_result = WGS_result.iloc[np.where([len(x) == 1 for x in WGS_result['REF']])[0]]\n",
    "        \n",
    "        WGS_result = WGS_result.iloc[np.where([len(x.split('/')[0]) == 1 for x in WGS_result[sample]])[0]]\n",
    "        WGS_result = WGS_result.iloc[np.where([len(x.split('/')[1]) == 1 for x in WGS_result[sample]])[0]]\n",
    "        \n",
    "        SNP_called = SNP_called.iloc[np.where([len(x.split('/')[1]) == 1 for x in SNP_called['%s_called' % sample]])[0]]\n",
    "        SNP_called = SNP_called.iloc[np.where([len(x.split('/')[1]) == 1 for x in SNP_called['%s_called' % sample]])[0]]\n",
    "    \n",
    "    # variants with some read\n",
    "    intersection_SNPs = WGS_result.merge(SNP_called, on=['#CHROM', 'POS'])\n",
    "    \n",
    "    # match for the HT order\n",
    "    intersection_SNPs['%s_makeup' % sample] = ['/'.join(x.split('/')[::-1]) for x in intersection_SNPs[sample]]\n",
    "    \n",
    "    HT = np.where(intersection_SNPs[sample] != intersection_SNPs['%s_makeup' % sample])[0]\n",
    "    match_idx = np.where(intersection_SNPs['%s_called' % sample] == intersection_SNPs['%s_makeup' % sample])[0]\n",
    "    need_to_flip = np.intersect1d(HT, match_idx)\n",
    "    intersection_SNPs.loc[need_to_flip,sample] = intersection_SNPs.loc[need_to_flip,'%s_makeup' % sample]\n",
    "\n",
    "    true_hits = np.sum(intersection_SNPs[sample] == intersection_SNPs['%s_called' % sample])\n",
    "\n",
    "    print('For %s:' % sample)\n",
    "    print(\"In total, WGS called %d SNVs\" % len(WGS_result))\n",
    "    print(\"Variant caller called %d SNVs\" % len(SNP_called))\n",
    "    \n",
    "    print(\"Variant called called %d (%.3f) SNVs found in WGS\" % (len(intersection_SNPs), \n",
    "                                                                 len(intersection_SNPs)/len(SNP_called)))\n",
    "\n",
    "    print(\"   %d (%.3f) are correct\" % (true_hits, true_hits / len(SNP_called)))\n",
    "    \n",
    "    \n",
    "    return intersection_SNPs"
   ]
  },
  {
   "cell_type": "code",
   "execution_count": 25,
   "metadata": {},
   "outputs": [],
   "source": [
    "def transform_genotype_number(intersection_df, base_on_col = sample):\n",
    "    intersection_df['Alt1'] = [x.split('/')[0] for x in intersection_df[base_on_col]]\n",
    "    intersection_df['Alt2'] = [x.split('/')[1] for x in intersection_df[base_on_col]]\n",
    "    intersection_df['MT']= (intersection_df['Alt1'] != intersection_df['REF_x']) & (intersection_df['Alt2'] != intersection_df['REF_x'])\n",
    "    intersection_df['HT'] = intersection_df['Alt1'] != intersection_df['Alt2']\n",
    "\n",
    "    # Assign Genotype number\n",
    "    genotype_arr = np.zeros(len(intersection_df))\n",
    "\n",
    "    # Heterozygous - AB\n",
    "    genotype_arr[np.where(intersection_df['HT'])[0]] = 1\n",
    "\n",
    "    # Homogenous wildtype\n",
    "    genotype_arr[np.where((~intersection_df['HT']) & (~intersection_df['MT']))[0]] = 0\n",
    "    \n",
    "    # Homogenous mutation\n",
    "    genotype_arr[np.where((~intersection_df['HT']) & (intersection_df['MT']))[0]] = 2\n",
    "    \n",
    "    return genotype_arr"
   ]
  },
  {
   "cell_type": "code",
   "execution_count": 26,
   "metadata": {},
   "outputs": [],
   "source": [
    "def readin_INFO(sample):\n",
    "\n",
    "    sample_info = pd.read_csv('%s/%s-RG-dedup-hapcal.filtered.variants.recode.INFO.txt' % (variant_calling_dir, sample),sep='\\t', header = None)\n",
    "    sample_info.columns=['#CHROM', 'POS', 'DP', 'PL']\n",
    "    sample_info['#CHROM'] = [int(x.replace('chr', '')) for x in sample_info['#CHROM']]\n",
    "\n",
    "    return sample_info\n"
   ]
  },
  {
   "cell_type": "code",
   "execution_count": 97,
   "metadata": {
    "scrolled": true
   },
   "outputs": [
    {
     "name": "stdout",
     "output_type": "stream",
     "text": [
      "HG00096\n",
      "For HG00096:\n",
      "In total, WGS called 5977376 SNVs\n",
      "Variant caller called 113217 SNVs\n",
      "Variant called called 107810 (0.952) SNVs found in WGS\n",
      "   105394 (0.931) are correct\n",
      "HG00105\n",
      "For HG00105:\n",
      "In total, WGS called 5977285 SNVs\n",
      "Variant caller called 97575 SNVs\n",
      "Variant called called 92886 (0.952) SNVs found in WGS\n",
      "   90676 (0.929) are correct\n",
      "HG00106\n",
      "For HG00106:\n",
      "In total, WGS called 5977220 SNVs\n",
      "Variant caller called 114542 SNVs\n",
      "Variant called called 109012 (0.952) SNVs found in WGS\n",
      "   106667 (0.931) are correct\n",
      "HG00108\n",
      "For HG00108:\n",
      "In total, WGS called 5978305 SNVs\n",
      "Variant caller called 54474 SNVs\n",
      "Variant called called 51853 (0.952) SNVs found in WGS\n",
      "   50771 (0.932) are correct\n",
      "HG00109\n",
      "For HG00109:\n",
      "In total, WGS called 5976951 SNVs\n",
      "Variant caller called 98886 SNVs\n",
      "Variant called called 94021 (0.951) SNVs found in WGS\n",
      "   91964 (0.930) are correct\n",
      "HG00114\n",
      "For HG00114:\n",
      "In total, WGS called 5978720 SNVs\n",
      "Variant caller called 44071 SNVs\n",
      "Variant called called 41981 (0.953) SNVs found in WGS\n",
      "   41012 (0.931) are correct\n",
      "HG00117\n",
      "For HG00117:\n",
      "In total, WGS called 5978294 SNVs\n",
      "Variant caller called 55413 SNVs\n",
      "Variant called called 52887 (0.954) SNVs found in WGS\n",
      "   51755 (0.934) are correct\n",
      "HG00118\n",
      "For HG00118:\n",
      "In total, WGS called 5976612 SNVs\n",
      "Variant caller called 116749 SNVs\n",
      "Variant called called 111097 (0.952) SNVs found in WGS\n",
      "   108819 (0.932) are correct\n",
      "HG00120\n",
      "For HG00120:\n",
      "In total, WGS called 5976920 SNVs\n",
      "Variant caller called 111910 SNVs\n",
      "Variant called called 106329 (0.950) SNVs found in WGS\n",
      "   103926 (0.929) are correct\n"
     ]
    }
   ],
   "source": [
    "minDP = 10\n",
    "\n",
    "sampleList = ['HG00096','HG00105','HG00106','HG00108','HG00109','HG00114','HG00117','HG00118','HG00120']\n",
    "for sample in sampleList:\n",
    "    print(sample)\n",
    "    \n",
    "    # WGS genotype\n",
    "    WGS_df = read_in_WGS_GT(sample)\n",
    "\n",
    "    # variant calling information\n",
    "    variant_calling_dir = '/work-zfs/abattle4/heyuan/Variant_calling/benchmarking/datasets/GBR/ATAC_seq/alignment_bowtie'\n",
    "    info_df = readin_INFO(sample)\n",
    "    info_df_unamb = info_df[['0,0' not in x for x in info_df['PL']]]\n",
    "    \n",
    "    sample_df = obtain_intersection_df(sample, minDP = minDP, WGS_result=WGS_df)\n",
    "    sample_df = sample_df.merge(info_df_unamb, on = ['#CHROM', 'POS'])\n",
    "\n",
    "    true_genotype = transform_genotype_number(sample_df, base_on_col=sample)\n",
    "    called_genotype = transform_genotype_number(sample_df, base_on_col='%s_called' % sample)\n",
    "\n",
    "    save_df = sample_df[['#CHROM', 'POS', 'DP', 'PL']]\n",
    "    save_df = save_df.copy()\n",
    "    save_df['True_GT'] = true_genotype\n",
    "    save_df['Called_GT'] = called_genotype\n",
    "\n",
    "    save_df = save_df[['#CHROM', 'POS', 'Called_GT', 'True_GT', 'DP', 'PL']]\n",
    "    save_df['Sample'] = sample\n",
    "    save_df.to_csv('Genotypes/%s_minDP%d.bed' % (sample, minDP), sep='\\t', index = False)\n",
    "    \n",
    "    "
   ]
  },
  {
   "cell_type": "code",
   "execution_count": 99,
   "metadata": {
    "scrolled": true
   },
   "outputs": [],
   "source": [
    "all_called_sites = pd.read_csv('Genotypes/aggregated_SNPs.txt', header = None, sep=' ')\n",
    "all_called_sites.columns = ['SNP', 'Genotype', 'Sample']"
   ]
  },
  {
   "cell_type": "code",
   "execution_count": 100,
   "metadata": {},
   "outputs": [],
   "source": [
    "from collections import Counter\n",
    "freq_SNPs = pd.DataFrame.from_dict(Counter(Counter(all_called_sites['SNP']).values()), orient='index')"
   ]
  },
  {
   "cell_type": "code",
   "execution_count": 101,
   "metadata": {},
   "outputs": [
    {
     "data": {
      "image/png": "[encoded data removed]",
      "text/plain": [
       "<Figure size 432x288 with 1 Axes>"
      ]
     },
     "metadata": {},
     "output_type": "display_data"
    }
   ],
   "source": [
    "freq_SNPs = freq_SNPs.sort_index()\n",
    "freq_SNPs = freq_SNPs[freq_SNPs.index < 10]\n",
    "\n",
    "plt.figure()\n",
    "plt.bar(freq_SNPs.index, freq_SNPs[0])\n",
    "plt.xlabel('Number of samples the variant is called')\n",
    "plt.ylabel('Number of variants')\n",
    "plt.show()"
   ]
  },
  {
   "cell_type": "code",
   "execution_count": 151,
   "metadata": {
    "scrolled": true
   },
   "outputs": [],
   "source": [
    "freq_snps = pd.DataFrame.from_dict(Counter(all_called_sites['SNP']), orient = 'index')\n",
    "\n",
    "snps_to_use = freq_snps[freq_snps[0] >= 5].index\n",
    "sites_to_use = all_called_sites.set_index('SNP').loc[snps_to_use]\n",
    "sites_to_use = sites_to_use.reset_index().drop_duplicates()\n",
    "\n",
    "sites_by_genotype = sites_to_use.pivot(index = 'SNP', columns = 'Sample')['Genotype']\n",
    "\n",
    "\n",
    "sites_by_genotype_arr = np.array(sites_by_genotype)\n",
    "sites_by_genotype_arr[np.isnan(sites_by_genotype_arr)] = -1"
   ]
  },
  {
   "cell_type": "code",
   "execution_count": 153,
   "metadata": {
    "scrolled": true
   },
   "outputs": [],
   "source": [
    "unique_numbers = list(map(lambda x: len(set(x)), np.array(sites_by_genotype_arr)))\n",
    "na_numbers = list(map(lambda x: np.sum(x==-1)>0, np.array(sites_by_genotype_arr)))"
   ]
  },
  {
   "cell_type": "code",
   "execution_count": 156,
   "metadata": {},
   "outputs": [
    {
     "data": {
      "text/plain": [
       "Counter({2: 41324, 3: 20916, 1: 12319})"
      ]
     },
     "execution_count": 156,
     "metadata": {},
     "output_type": "execute_result"
    }
   ],
   "source": [
    "Counter(np.array(unique_numbers) - np.array(na_numbers))"
   ]
  },
  {
   "cell_type": "code",
   "execution_count": 136,
   "metadata": {},
   "outputs": [
    {
     "data": {
      "text/plain": [
       "61853"
      ]
     },
     "execution_count": 136,
     "metadata": {},
     "output_type": "execute_result"
    }
   ],
   "source": [
    "len(set(snps_to_use))"
   ]
  }
 ],
 "metadata": {
  "kernelspec": {
   "display_name": "Python [default]",
   "language": "python",
   "name": "python3"
  },
  "language_info": {
   "codemirror_mode": {
    "name": "ipython",
    "version": 3
   },
   "file_extension": ".py",
   "mimetype": "text/x-python",
   "name": "python",
   "nbconvert_exporter": "python",
   "pygments_lexer": "ipython3",
   "version": "3.6.5"
  }
 },
 "nbformat": 4,
 "nbformat_minor": 2
}
