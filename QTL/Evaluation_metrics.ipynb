{
 "cells": [
  {
   "cell_type": "code",
   "execution_count": 3,
   "metadata": {},
   "outputs": [],
   "source": [
    "import numpy as np\n",
    "import pandas as pd\n",
    "from matplotlib import pyplot as plt\n",
    "from scipy.stats import binom_test \n",
    "import os\n",
    "\n",
    "import seaborn as sns\n",
    "sns.set(font_scale= 1.5)\n",
    "sns.set_style('whitegrid') \n",
    "\n",
    "import sys\n",
    "sys.path.append('/work-zfs/abattle4/heyuan/old_work_files/yuan/tools/python_lib/lib/python2.7/site-packages')\n",
    "\n",
    "from matplotlib_venn import venn3, venn2\n",
    "\n",
    "from statsmodels.stats.multitest import multipletests\n",
    "sns.set(font_scale= 1.5)\n",
    "sns.set_style('whitegrid')\n",
    "\n",
    "from scipy.stats import ranksums\n"
   ]
  },
  {
   "cell_type": "code",
   "execution_count": 81,
   "metadata": {},
   "outputs": [],
   "source": [
    "def read_in_WGS_GT(sample):\n",
    "    WGS_dir = '/work-zfs/abattle4/heyuan/Variant_calling/benchmarking/datasets/GBR/Genotype'\n",
    "\n",
    "    chromosome = 22\n",
    "    WGS_fn = '%s/1k_genome_chr%d.genotypes.tsv' % (WGS_dir, chromosome)\n",
    "    WGS_result = pd.read_csv(WGS_fn, comment = '$', sep='\\t', nrows = 10)\n",
    "    try:\n",
    "        col_to_read = list(WGS_result.columns).index(sample)\n",
    "    except:\n",
    "        print('%s does not have genotype data' % sample)\n",
    "        return \n",
    "    \n",
    "    WGS_result = pd.DataFrame()\n",
    "\n",
    "    for chromosome in range(1,23):\n",
    "        WGS_fn = '%s/1k_genome_chr%d.genotypes.tsv' % (WGS_dir, chromosome)\n",
    "        token = pd.read_csv(WGS_fn, \n",
    "                            comment = '$', \n",
    "                            sep='\\t', \n",
    "                            usecols=[0,1,2,col_to_read])\n",
    "        WGS_result = WGS_result.append(token)\n",
    "        \n",
    "    WGS_result = WGS_result.drop_duplicates()\n",
    "        \n",
    "    return WGS_result"
   ]
  },
  {
   "cell_type": "code",
   "execution_count": 106,
   "metadata": {},
   "outputs": [],
   "source": [
    "def obtain_intersection_df(sample, minDP, WGS_result, restrict_to_SNP = True):\n",
    "    \n",
    "    WGS_result = WGS_result.copy()\n",
    "    \n",
    "    SNP_calling_dir = '/work-zfs/abattle4/heyuan/Variant_calling/benchmarking/datasets/GBR/ATAC_seq/alignment_bowtie'\n",
    "        \n",
    "    SNP_called_fn = '%s/Called_GT/%s_minDP_%d.genotypes.txt' % (SNP_calling_dir, sample, minDP)\n",
    "    SNP_called = pd.read_csv(SNP_called_fn, comment=\"$\", sep='\\t', nrows = 10)\n",
    "    try:\n",
    "        col_to_read = np.where([sample in x for x in SNP_called.columns])[0][0]\n",
    "    except:\n",
    "        print('%s does not called genotpye' % sample)\n",
    "        return\n",
    "    \n",
    "    SNP_called = pd.read_csv(SNP_called_fn, comment=\"$\", sep='\\t', usecols=[0, 1, 2, col_to_read])\n",
    "    SNP_called.columns = list(SNP_called.columns[:3]) + ['%s_called' % sample]\n",
    "    SNP_called['#CHROM'] = [int(x.replace('chr','')) for x in SNP_called['#CHROM']]\n",
    "    \n",
    "    # restrict to SNP\n",
    "    if restrict_to_SNP:\n",
    "        WGS_result = WGS_result.iloc[np.where([len(x) == 1 for x in WGS_result['REF']])[0]]\n",
    "        WGS_result = WGS_result.iloc[np.where([len(x.split('/')[0]) == 1 for x in WGS_result[sample]])[0]]\n",
    "        WGS_result = WGS_result.iloc[np.where([len(x.split('/')[1]) == 1 for x in WGS_result[sample]])[0]]\n",
    "        \n",
    "        SNP_called = SNP_called.iloc[np.where([len(x.split('/')[1]) == 1 for x in SNP_called['%s_called' % sample]])[0]]\n",
    "        SNP_called = SNP_called.iloc[np.where([len(x.split('/')[1]) == 1 for x in SNP_called['%s_called' % sample]])[0]]\n",
    "    \n",
    "    # variants with some read\n",
    "    intersection_SNPs = WGS_result.merge(SNP_called, on=['#CHROM', 'POS'])\n",
    "    \n",
    "    # match for the HT order\n",
    "    intersection_SNPs['%s_makeup' % sample] = ['/'.join(x.split('/')[::-1]) for x in intersection_SNPs[sample]]\n",
    "    \n",
    "    HT = np.where(intersection_SNPs[sample] != intersection_SNPs['%s_makeup' % sample])[0]\n",
    "    match_idx = np.where(intersection_SNPs['%s_called' % sample] == intersection_SNPs['%s_makeup' % sample])[0]\n",
    "    need_to_flip = np.intersect1d(HT, match_idx)\n",
    "    intersection_SNPs.loc[need_to_flip,sample] = intersection_SNPs.loc[need_to_flip,'%s_makeup' % sample]\n",
    "\n",
    "    true_hits = np.sum(intersection_SNPs[sample] == intersection_SNPs['%s_called' % sample])\n",
    "\n",
    "    print('For %s:' % sample)\n",
    "    print(\"In total, WGS called %d SNVs\" % len(WGS_result))\n",
    "    print(\"Variant caller called %d SNVs\" % len(SNP_called))\n",
    "    \n",
    "    print(\"Variant called called %d (%.3f) SNVs found in WGS\" % (len(intersection_SNPs), \n",
    "                                                                 len(intersection_SNPs)/len(SNP_called)))\n",
    "\n",
    "    print(\"   %d (%.3f) are correct\" % (true_hits, true_hits / len(SNP_called)))\n",
    "    \n",
    "    \n",
    "    return intersection_SNPs"
   ]
  },
  {
   "cell_type": "code",
   "execution_count": 107,
   "metadata": {},
   "outputs": [],
   "source": [
    "def obtain_confusion_matrix(intersection_df):\n",
    "    intersection_df['Alt1'] = [x.split('/')[0] for x in intersection_df[sample]]\n",
    "    intersection_df['Alt2'] = [x.split('/')[1] for x in intersection_df[sample]]\n",
    "    intersection_df['MT']= (intersection_df['Alt1'] != intersection_df['REF_x']) & (intersection_df['Alt2'] != intersection_df['REF_x'])\n",
    "    intersection_df['HT'] = intersection_df['Alt1'] != intersection_df['Alt2']\n",
    "\n",
    "    intersection_df['called_Alt1'] = [x.split('/')[0] for x in intersection_df['%s_called' % sample]]\n",
    "    intersection_df['called_Alt2'] = [x.split('/')[1] for x in intersection_df['%s_called' % sample]]\n",
    "    intersection_df['called_MT']= (intersection_df['called_Alt1'] != intersection_df['REF_x']) & (intersection_df['called_Alt2'] != intersection_df['REF_x'])\n",
    "    intersection_df['called_HT'] = intersection_df['called_Alt1'] != intersection_df['called_Alt2']\n",
    "\n",
    "    ## Real Genotype\n",
    "\n",
    "    # Heterozygous - AB\n",
    "    ab = intersection_df[intersection_df['HT']]\n",
    "\n",
    "    # called genotypes\n",
    "    ab_called_ab = np.sum(ab['called_HT'])\n",
    "    ab_called_aa = np.sum((~ab['called_HT']) & (~ab['called_MT']))\n",
    "    ab_called_bb = np.sum((~ab['called_HT']) & (ab['called_MT']))\n",
    "\n",
    "    assert (ab_called_ab + ab_called_aa + ab_called_bb == len(ab))\n",
    "\n",
    "    # Homogenous wildtype\n",
    "    aa = intersection_df[(~intersection_df['HT']) & (~intersection_df['MT'])]\n",
    "\n",
    "    # called genotypes\n",
    "    aa_called_ab = np.sum(aa['called_HT'])\n",
    "    aa_called_aa = np.sum((~aa['called_HT']) & (~aa['called_MT']))\n",
    "    aa_called_bb = np.sum((~aa['called_HT']) & (aa['called_MT']))\n",
    "    assert (aa_called_ab + aa_called_aa + aa_called_bb == len(aa))\n",
    "\n",
    "    # Homogenous mutation\n",
    "    bb = intersection_df[(~intersection_df['HT']) & (intersection_df['MT'])]\n",
    "\n",
    "    # called genotype\n",
    "    bb_called_ab = np.sum(bb['called_HT'])\n",
    "    bb_called_aa = np.sum((~bb['called_HT']) & (~bb['called_MT']))\n",
    "    bb_called_bb = np.sum((~bb['called_HT']) & (bb['called_MT']))\n",
    "    assert (bb_called_ab + bb_called_aa + bb_called_bb == len(bb))\n",
    "\n",
    "    confusion_matrix = pd.DataFrame([[aa_called_aa, aa_called_ab, aa_called_bb], \n",
    "                                     [ab_called_aa, ab_called_ab, ab_called_bb],\n",
    "                                     [bb_called_aa, bb_called_ab, bb_called_bb]])\n",
    "\n",
    "    confusion_matrix.columns = ['call_AA', 'called_AB', 'called_BB']\n",
    "    confusion_matrix.index = ['true_AA', 'true_AB', 'true_BB']\n",
    "    \n",
    "    return confusion_matrix"
   ]
  },
  {
   "cell_type": "code",
   "execution_count": 126,
   "metadata": {},
   "outputs": [],
   "source": [
    "sample = 'HG00108'"
   ]
  },
  {
   "cell_type": "code",
   "execution_count": 129,
   "metadata": {},
   "outputs": [],
   "source": [
    "# variant calling information\n",
    "variant_calling_dir = '/work-zfs/abattle4/heyuan/Variant_calling/benchmarking/datasets/GBR/ATAC_seq/alignment_bowtie'\n",
    "\n",
    "info_df = pd.read_csv('%s/%s-RG-dedup-hapcal.filtered.variants.recode.INFO.txt' % (variant_calling_dir, sample),sep='\\t', header = None)\n",
    "info_df.columns=['#CHROM', 'POS', 'DP', 'PL']\n",
    "info_df['#CHROM'] = [int(x.replace('chr', '')) for x in info_df['#CHROM']]\n",
    "\n",
    "info_df_unamb = info_df[['0,0' not in x for x in info_df['PL']]]\n"
   ]
  },
  {
   "cell_type": "code",
   "execution_count": null,
   "metadata": {},
   "outputs": [],
   "source": [
    "WGS_df = read_in_WGS_GT(sample)"
   ]
  },
  {
   "cell_type": "code",
   "execution_count": 130,
   "metadata": {
    "scrolled": true
   },
   "outputs": [
    {
     "name": "stdout",
     "output_type": "stream",
     "text": [
      "For HG00108:\n",
      "In total, WGS called 6057592 SNVs\n",
      "Variant caller called 568444 SNVs\n",
      "Variant called called 542321 (0.954) SNVs found in WGS\n",
      "   444431 (0.782) are correct\n",
      "For HG00108:\n",
      "In total, WGS called 6057592 SNVs\n",
      "Variant caller called 281088 SNVs\n",
      "Variant called called 268805 (0.956) SNVs found in WGS\n",
      "   237474 (0.845) are correct\n",
      "For HG00108:\n",
      "In total, WGS called 6057592 SNVs\n",
      "Variant caller called 161805 SNVs\n",
      "Variant called called 154765 (0.956) SNVs found in WGS\n",
      "   143404 (0.886) are correct\n",
      "For HG00108:\n",
      "In total, WGS called 6057592 SNVs\n",
      "Variant caller called 110287 SNVs\n",
      "Variant called called 105575 (0.957) SNVs found in WGS\n",
      "   100495 (0.911) are correct\n",
      "For HG00108:\n",
      "In total, WGS called 6057592 SNVs\n",
      "Variant caller called 85083 SNVs\n",
      "Variant called called 81512 (0.958) SNVs found in WGS\n",
      "   78660 (0.925) are correct\n",
      "For HG00108:\n",
      "In total, WGS called 6057592 SNVs\n",
      "Variant caller called 70937 SNVs\n",
      "Variant called called 67957 (0.958) SNVs found in WGS\n",
      "   66087 (0.932) are correct\n",
      "For HG00108:\n",
      "In total, WGS called 6057592 SNVs\n",
      "Variant caller called 61539 SNVs\n",
      "Variant called called 58989 (0.959) SNVs found in WGS\n",
      "   57583 (0.936) are correct\n",
      "For HG00108:\n",
      "In total, WGS called 6057592 SNVs\n",
      "Variant caller called 54474 SNVs\n",
      "Variant called called 52243 (0.959) SNVs found in WGS\n",
      "   51147 (0.939) are correct\n"
     ]
    }
   ],
   "source": [
    "if 1:\n",
    "    for minDP in range(3,11):\n",
    "        sample_df = obtain_intersection_df(sample, minDP = minDP, WGS_result=WGS_df)\n",
    "        if sample_df is not None:\n",
    "            confusion_matrix = obtain_confusion_matrix(sample_df)\n",
    "            confusion_matrix.to_csv('confusion_matrices/%s_bowtie_GATK_DPmin%d_SNPs.txt' % (sample, minDP), sep='\\t')\n",
    "            \n",
    "            # remove ambiguous calls\n",
    "            sample_df = sample_df.merge(info_df_unamb, on = ['#CHROM', 'POS'])\n",
    "            confusion_matrix = obtain_confusion_matrix(sample_df)\n",
    "            confusion_matrix.to_csv('confusion_matrices/%s_bowtie_GATK_DPmin%d_SNPs_noAmbig.txt' % (sample, minDP), sep='\\t')\n",
    "        else:\n",
    "            continue"
   ]
  },
  {
   "cell_type": "code",
   "execution_count": 114,
   "metadata": {},
   "outputs": [],
   "source": [
    "mismatch = sample_df[sample_df[sample] != sample_df['%s_called' % sample]]\n",
    "mismatch = mismatch.merge(info_df, on=['#CHROM', 'POS'])\n",
    "\n",
    "match = sample_df[sample_df[sample] == sample_df['%s_called' % sample]]\n",
    "match = match.merge(info_df, on=['#CHROM', 'POS'])"
   ]
  },
  {
   "cell_type": "code",
   "execution_count": 115,
   "metadata": {},
   "outputs": [
    {
     "data": {
      "image/png": "[encoded data removed]",
      "text/plain": [
       "<Figure size 576x360 with 1 Axes>"
      ]
     },
     "metadata": {},
     "output_type": "display_data"
    }
   ],
   "source": [
    "x = [np.log10(x) for x in np.array(mismatch['DP'])]\n",
    "y = [np.log10(x) for x in np.array(match['DP'])]\n",
    "\n",
    "\n",
    "plt.figure(figsize = (8,5))\n",
    "plt.hist(np.array(x), density = True, label = 'mismatched genotype', \n",
    "         histtype = 'step', linewidth = 2)\n",
    "plt.hist(np.array(y), density = True, label = 'matched genotype', \n",
    "         histtype = 'step', linewidth = 2)\n",
    "plt.title('Distribution of log10(Raw read depth) for %s\\n Ranksum test p-value = %s' % (sample, \n",
    "                                                                                        ranksums(np.log10(x), np.log10(y))[1]))\n",
    "plt.legend()\n",
    "plt.show()"
   ]
  },
  {
   "cell_type": "code",
   "execution_count": 120,
   "metadata": {
    "scrolled": true
   },
   "outputs": [
    {
     "data": {
      "text/plain": [
       "0.38503649635036497"
      ]
     },
     "execution_count": 120,
     "metadata": {},
     "output_type": "execute_result"
    }
   ],
   "source": [
    "np.sum(['0,0' in x for x in mismatch['PL']]) / len(mismatch)"
   ]
  },
  {
   "cell_type": "code",
   "execution_count": 121,
   "metadata": {},
   "outputs": [
    {
     "data": {
      "text/plain": [
       "0.05845895164916808"
      ]
     },
     "execution_count": 121,
     "metadata": {},
     "output_type": "execute_result"
    }
   ],
   "source": [
    "np.sum(['0,0' in x for x in match['PL']]) / len(match)"
   ]
  },
  {
   "cell_type": "code",
   "execution_count": null,
   "metadata": {},
   "outputs": [],
   "source": []
  }
 ],
 "metadata": {
  "kernelspec": {
   "display_name": "Python [default]",
   "language": "python",
   "name": "python3"
  },
  "language_info": {
   "codemirror_mode": {
    "name": "ipython",
    "version": 3
   },
   "file_extension": ".py",
   "mimetype": "text/x-python",
   "name": "python",
   "nbconvert_exporter": "python",
   "pygments_lexer": "ipython3",
   "version": "3.6.5"
  }
 },
 "nbformat": 4,
 "nbformat_minor": 2
}
