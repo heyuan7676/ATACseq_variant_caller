{
 "cells": [
  {
   "cell_type": "code",
   "execution_count": 2,
   "metadata": {},
   "outputs": [],
   "source": [
    "import os\n",
    "import numpy as np\n",
    "import pandas as pd\n",
    "from matplotlib import pyplot as plt"
   ]
  },
  {
   "cell_type": "code",
   "execution_count": 257,
   "metadata": {},
   "outputs": [],
   "source": [
    "CHROMOSOME = 22\n",
    "PEAK_DIR = '/work-zfs/abattle4/heyuan/Variant_calling/datasets/GBR/ATAC_seq/alignment_bowtie/Peaks'\n",
    "BAM_DIR = '/work-zfs/abattle4/heyuan/Variant_calling/datasets/GBR/ATAC_seq/alignment_bowtie/first_pass_bqsr'\n",
    "Genotype_dir = '/work-zfs/abattle4/heyuan/Variant_calling/datasets/GBR/ATAC_seq/alignment_bowtie/Called_GT/'\n",
    "VCF_dir = '/work-zfs/abattle4/heyuan/Variant_calling/datasets/GBR/ATAC_seq/alignment_bowtie/VCF_files'\n",
    "QTL_dir = '/work-zfs/abattle4/heyuan/Variant_calling/datasets/GBR/ATAC_seq/alignment_bowtie/QTLs'"
   ]
  },
  {
   "cell_type": "code",
   "execution_count": 266,
   "metadata": {},
   "outputs": [],
   "source": [
    "def read_in_peaks():\n",
    "    peak_dat = pd.read_csv('%s/peak_by_sample_matrix_corrected_chr%d.txt' % (PEAK_DIR, CHROMOSOME),\n",
    "                          sep='\\t')\n",
    "    samples = [x for x in peak_dat.columns if x.startswith('HG')]\n",
    "    return [peak_dat, samples]"
   ]
  },
  {
   "cell_type": "code",
   "execution_count": 267,
   "metadata": {},
   "outputs": [],
   "source": [
    "[PEAK_DAT, samples] = read_in_peaks()"
   ]
  },
  {
   "cell_type": "code",
   "execution_count": 263,
   "metadata": {},
   "outputs": [],
   "source": [
    "def convert_gt_to_number(arri):\n",
    "    '''\n",
    "    convert genotype type A/A to 0, 1, 2 ...\n",
    "    '''\n",
    "    arri_idx = np.where(arri!='0')[0]\n",
    "    nts = np.unique([a for b in [x.split('/') for x in arri[arri_idx]] for a in b])\n",
    "    nts_dict = {}\n",
    "    i = 0\n",
    "    for ni in nts:\n",
    "        nts_dict[ni] = i\n",
    "        i += 1\n",
    "    numeric_gt = [np.sum([nts_dict[a] for a in x.split('/')]) for x in arri[arri_idx]]\n",
    "    numeric_gt_arr = np.ones(len(arri)) * (-1)\n",
    "    numeric_gt_arr[arri_idx] = numeric_gt\n",
    "    return numeric_gt_arr\n",
    "\n",
    "\n",
    "def obtain_numerical_gt(gt_dat, samples):\n",
    "    '''\n",
    "    Very slow\n",
    "    '''\n",
    "\n",
    "    gt_numerical_dat = []\n",
    "    for i in range(len(gt_dat)):\n",
    "        arri = np.array(gt_dat[samples].iloc[i])\n",
    "        token = convert_gt_to_number(arri)\n",
    "        gt_numerical_dat.append(token)\n",
    "        if i % 5000 == 0:\n",
    "            print('%d rows finished' % i)\n",
    "            \n",
    "    gt_numerical_dat = pd.DataFrame(gt_numerical_dat)\n",
    "    gt_numerical_dat.columns = samples\n",
    "    gt_numerical_dat['CHR_POS'] = gt_dat['CHR_POS']\n",
    "    gt_numerical_dat['CHR'] = gt_dat['CHR']\n",
    "    gt_numerical_dat['POS'] = gt_dat['POS']\n",
    "    gt_numerical_dat = gt_numerical_dat[['CHR_POS', 'CHR', 'POS']  + samples]\n",
    "    \n",
    "    gt_numerical_dat.to_csv('%s/gt_by_sample_matrix_chr%d_numericalGT.txt' % (Genotype_dir, CHROMOSOME), sep=' ', index = False)\n",
    "    \n",
    "    return gt_numerical_dat\n",
    "    "
   ]
  },
  {
   "cell_type": "code",
   "execution_count": 264,
   "metadata": {
    "scrolled": true
   },
   "outputs": [],
   "source": [
    "def readin_genotype():\n",
    "    ## Read in Genotpye\n",
    "    gt_dat = pd.read_csv('%s/gt_by_sample_matrix_chr%d.txt' % (Genotype_dir, CHROMOSOME), sep=' ')\n",
    "    gt_dat = gt_dat[[x for x in gt_dat.columns if 'Unnamed' not in x]]\n",
    "    samples = [x for x in gt_dat.columns if x.startswith('HG')]\n",
    "\n",
    "    # remove rows with less than 3 samples\n",
    "    valid_snps = np.where(np.sum(np.array(gt_dat[samples]) != '0', axis=1) >= 3)[0]\n",
    "    gt_dat = gt_dat.iloc[valid_snps].reset_index(drop=True)\n",
    "    \n",
    "    # remove rows with only one genotype\n",
    "    validQTLsnps = np.where([len(set(x))>2 for x in np.array(gt_dat[samples])])[0]\n",
    "    gt_dat = gt_dat.iloc[validQTLsnps].reset_index(drop=True)\n",
    "\n",
    "    try:\n",
    "        gt_numerical_dat = pd.read_csv('%s/gt_by_sample_matrix_chr%d_numericalGT.txt' % (Genotype_dir, CHROMOSOME), sep=' ')\n",
    "    except:\n",
    "        print('Convert genotype to numerical values')\n",
    "        gt_numerical_dat = obtain_numerical_gt(gt_dat, samples)\n",
    "        \n",
    "    return gt_numerical_dat"
   ]
  },
  {
   "cell_type": "code",
   "execution_count": 265,
   "metadata": {},
   "outputs": [],
   "source": [
    "GT_DAT = readin_genotype()"
   ]
  },
  {
   "cell_type": "code",
   "execution_count": null,
   "metadata": {},
   "outputs": [],
   "source": []
  },
  {
   "cell_type": "code",
   "execution_count": 10,
   "metadata": {},
   "outputs": [],
   "source": [
    "def achieve_ll(rowi):\n",
    "    '''\n",
    "    Map PL scores back to likelihood\n",
    "    '''\n",
    "    \n",
    "    pl_scores = [list(map(int, x.split(','))) for x in rowi]\n",
    "    pl_scores = [np.array(x) for x in pl_scores]\n",
    "    pl_scores = [x[x<10] for x in pl_scores]\n",
    "\n",
    "    post_pp = [list(map(lambda x: 1/10 ** x, pl_s)) for pl_s in pl_scores]    \n",
    "    max_post_pp = [np.max(x/np.sum(x)) for x in post_pp]\n",
    "    \n",
    "    return max_post_pp\n",
    "\n",
    "\n",
    "def derive_ll(info_dat, samples):\n",
    "    info_arr = np.array(info_dat[samples])\n",
    "    idx_score = np.where(info_arr!='0')\n",
    "    post_pp_arr = achieve_ll(info_arr[idx_score])\n",
    "\n",
    "    post_pp = np.zeros(info_arr.shape)\n",
    "    post_pp[idx_score] = post_pp_arr\n",
    "    \n",
    "    post_pp_dat = pd.DataFrame(post_pp)\n",
    "    post_pp_dat.columns = samples\n",
    "    post_pp_dat['CHR_POS'] = info_dat['CHR_POS']\n",
    "    post_pp_dat['CHR'] = info_dat['CHR']\n",
    "    post_pp_dat['POS'] = info_dat['POS']\n",
    "    post_pp_dat = post_pp_dat[['CHR_POS', 'CHR', 'POS']  + samples]\n",
    "    \n",
    "    post_pp_dat.to_csv('%s/gt_infoLL_by_sample_matrix_chr%d.txt' % (VCF_dir, CHROMOSOME), sep=' ', index = False)\n",
    "    \n",
    "    return post_pp_dat"
   ]
  },
  {
   "cell_type": "code",
   "execution_count": 17,
   "metadata": {},
   "outputs": [],
   "source": [
    "def readin_genotype_info(gt_dat):\n",
    "    ## Read in Genotpye INFO\n",
    "    info_dat = pd.read_csv('%s/gt_info_by_sample_matrix_chr%d.txt' % (VCF_dir, CHROMOSOME), sep=' ')\n",
    "    info_dat = info_dat[[x for x in info_dat.columns if 'Unnamed' not in x]]\n",
    "    info_dat = info_dat.set_index('CHR_POS').loc[gt_dat['CHR_POS']].reset_index()\n",
    "    \n",
    "    samples = [x for x in info_dat.columns if x.startswith('HG')]\n",
    "    \n",
    "    try:\n",
    "        post_pp_dat = pd.read_csv('%s/gt_infoLL_by_sample_matrix_chr%d.txt' % (VCF_dir, CHROMOSOME), sep=' ')\n",
    "    except:\n",
    "        print('Derive posterior probability for the genotypes')\n",
    "        post_pp_dat = derive_ll(info_dat=info_dat, samples=samples)\n",
    "        \n",
    "    return post_pp_dat"
   ]
  },
  {
   "cell_type": "code",
   "execution_count": 18,
   "metadata": {},
   "outputs": [],
   "source": [
    "WEIGHT_DAT = readin_genotype_info(gt_dat=GT_DAT)"
   ]
  },
  {
   "cell_type": "code",
   "execution_count": null,
   "metadata": {},
   "outputs": [],
   "source": []
  },
  {
   "cell_type": "code",
   "execution_count": null,
   "metadata": {},
   "outputs": [],
   "source": []
  },
  {
   "cell_type": "code",
   "execution_count": 200,
   "metadata": {},
   "outputs": [],
   "source": [
    "#### Compute QTL\n",
    "\n",
    "# Genotype data: gt_numerical_dat\n",
    "# Peak data: RPKM_dat\n",
    "# Genotype data weights: post_pp_dat"
   ]
  },
  {
   "cell_type": "code",
   "execution_count": 229,
   "metadata": {},
   "outputs": [],
   "source": [
    "from statsmodels.regression import linear_model as sm\n",
    "\n",
    "def compute_QTL_gti_peaki(gt_sample, peak_sample, weight_sample):\n",
    "    #gt_sample = np.array(gt_numerical_dat[samples].iloc[0])\n",
    "    #peak_sample = np.array(RPKM_dat[samples].iloc[0])\n",
    "    #weight_sample = np.array(post_pp_dat[samples].iloc[0])\n",
    "    valid_samples = np.where(gt_sample!= -1)[0]\n",
    "    \n",
    "    y = np.array(peak_sample[valid_samples])\n",
    "    x = np.array(gt_sample[valid_samples])\n",
    "    x_weights = np.array(weight_sample[valid_samples])\n",
    "    \n",
    "    wls_model = sm.WLS(y, x, weights = x_weights)\n",
    "    results = wls_model.fit()\n",
    "    \n",
    "    return results.f_pvalue"
   ]
  },
  {
   "cell_type": "code",
   "execution_count": 230,
   "metadata": {
    "scrolled": true
   },
   "outputs": [],
   "source": [
    "def compute_QTL_peaki(peaki, gt_numerical_dat, post_pp_dat):\n",
    "    QTL_result_peaki = []\n",
    "    #peaki = RPKM_dat[['START', 'END']].iloc[i]\n",
    "    [start, end] = [peaki['START'], peaki['END']]\n",
    "    \n",
    "    SNPs_close = (np.array(gt_numerical_dat['POS']) < end + WINDOW) & (np.array(gt_numerical_dat['POS']) > start - WINDOW)\n",
    "    SNPs_close = np.where(SNPs_close)[0]\n",
    "    \n",
    "    SNPs_gt = gt_numerical_dat.iloc[SNPs_close]\n",
    "    SNPs_gt_ll = post_pp_dat.iloc[SNPs_close]\n",
    "    \n",
    "    for gti in range(len(SNPs_gt)):\n",
    "        pval = compute_QTL_gti_peaki(SNPs_gt[samples].iloc[gti], peaki[samples], SNPs_gt_ll[samples].iloc[gti])\n",
    "        if(np.isnan(pval)):\n",
    "            break\n",
    "        snpid = SNPs_gt.iloc[gti]['CHR_POS']\n",
    "        peakid = peaki['PEAK']\n",
    "        QTL_result_peaki.append([peakid, snpid, pval])\n",
    "        \n",
    "    return QTL_result_peaki"
   ]
  },
  {
   "cell_type": "code",
   "execution_count": 261,
   "metadata": {
    "scrolled": true
   },
   "outputs": [],
   "source": [
    "def compute_QTLs(WINDOW, peak_df, genotype_df, weight_df):\n",
    "\n",
    "    QTL_results = []\n",
    "    for p in range(100):\n",
    "        token = compute_QTL_peaki(peak_df.iloc[p], genotype_df, weight_df)\n",
    "        QTL_results.append([a for b in token for a in b])\n",
    "        if p % 100 == 0:\n",
    "            print('%d peaks finished' % p)\n",
    "        \n",
    "    QTL_results = [a for b in QTL_results for a in b]\n",
    "    QTL_results = np.reshape(np.array(QTL_results), [int(len(QTL_results)/3), 3])\n",
    "    QTL_dat = pd.DataFrame(QTL_results)\n",
    "    QTL_dat.columns = ['PeakID', 'CHR_POS', 'p-value']\n",
    "    QTL_dat['p-value'] = list(map(float, QTL_dat['p-value']))\n",
    "    \n",
    "    QTL_dat.to_csv('%s/CHR%d_acQTLs_WINDOW_%dkb.txt' % (QTL_dir, CHROMOSOME, WINDOW/1000), sep='\\t', index = False)"
   ]
  },
  {
   "cell_type": "code",
   "execution_count": 262,
   "metadata": {},
   "outputs": [
    {
     "name": "stdout",
     "output_type": "stream",
     "text": [
      "0 peaks finished\n"
     ]
    }
   ],
   "source": [
    "WINDOW = 1000\n",
    "compute_QTLs(WINDOW, PEAK_DAT, GT_DAT, WEIGHT_DAT)"
   ]
  }
 ],
 "metadata": {
  "kernelspec": {
   "display_name": "Python [default]",
   "language": "python",
   "name": "python3"
  },
  "language_info": {
   "codemirror_mode": {
    "name": "ipython",
    "version": 3
   },
   "file_extension": ".py",
   "mimetype": "text/x-python",
   "name": "python",
   "nbconvert_exporter": "python",
   "pygments_lexer": "ipython3",
   "version": "3.6.5"
  }
 },
 "nbformat": 4,
 "nbformat_minor": 2
}
