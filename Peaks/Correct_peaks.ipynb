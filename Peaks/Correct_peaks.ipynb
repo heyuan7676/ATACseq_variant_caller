{
 "cells": [
  {
   "cell_type": "code",
   "execution_count": 15,
   "metadata": {},
   "outputs": [],
   "source": [
    "import os\n",
    "import numpy as np\n",
    "import pandas as pd\n",
    "from matplotlib import pyplot as plt\n",
    "\n",
    "import sys\n",
    "sys.path.append('/work-zfs/abattle4/heyuan/tools/python3_lib/lib/python3.6/site-packages/')\n",
    "\n",
    "\n",
    "from sklearn.preprocessing import StandardScaler\n",
    "from sklearn.decomposition import PCA\n",
    "import scipy.stats as stats\n",
    "\n",
    "import seaborn as sns\n",
    "\n",
    "from Correct_peaks import *"
   ]
  },
  {
   "cell_type": "code",
   "execution_count": 2,
   "metadata": {},
   "outputs": [],
   "source": [
    "PEAK_DIR = '/work-zfs/abattle4/heyuan/Variant_calling/datasets/GBR/ATAC_seq/alignment_bowtie/Peaks/'\n",
    "BAM_DIR = '/work-zfs/abattle4/heyuan/Variant_calling/datasets/GBR/ATAC_seq/alignment_bowtie/first_pass_bqsr'"
   ]
  },
  {
   "cell_type": "code",
   "execution_count": 5,
   "metadata": {},
   "outputs": [
    {
     "name": "stdout",
     "output_type": "stream",
     "text": [
      "Read in Peak and convert to RPKM\n",
      "Compute RPKM\n"
     ]
    }
   ],
   "source": [
    "[centered_data, bam_DF, samples] = read_in_peaks(permute = True)\n",
    "[corrected_data, pca_model] = remove_PCs(centered_dat = centered_data[samples], PCA_k=10)"
   ]
  },
  {
   "cell_type": "code",
   "execution_count": 9,
   "metadata": {},
   "outputs": [
    {
     "data": {
      "text/html": [
       "<div>\n",
       "<style scoped>\n",
       "    .dataframe tbody tr th:only-of-type {\n",
       "        vertical-align: middle;\n",
       "    }\n",
       "\n",
       "    .dataframe tbody tr th {\n",
       "        vertical-align: top;\n",
       "    }\n",
       "\n",
       "    .dataframe thead th {\n",
       "        text-align: right;\n",
       "    }\n",
       "</style>\n",
       "<table border=\"1\" class=\"dataframe\">\n",
       "  <thead>\n",
       "    <tr style=\"text-align: right;\">\n",
       "      <th></th>\n",
       "      <th>PEAK</th>\n",
       "      <th>CHR</th>\n",
       "      <th>START</th>\n",
       "      <th>END</th>\n",
       "      <th>HG00113</th>\n",
       "      <th>HG00246</th>\n",
       "      <th>HG00106</th>\n",
       "      <th>HG00138</th>\n",
       "      <th>HG00112</th>\n",
       "      <th>HG00247</th>\n",
       "      <th>...</th>\n",
       "      <th>HG00136</th>\n",
       "      <th>HG00155</th>\n",
       "      <th>HG00263</th>\n",
       "      <th>HG00156</th>\n",
       "      <th>HG00135</th>\n",
       "      <th>HG00120</th>\n",
       "      <th>HG00143</th>\n",
       "      <th>HG00157</th>\n",
       "      <th>HG00121</th>\n",
       "      <th>HG00142</th>\n",
       "    </tr>\n",
       "  </thead>\n",
       "  <tbody>\n",
       "    <tr>\n",
       "      <th>0</th>\n",
       "      <td>Peak1</td>\n",
       "      <td>1</td>\n",
       "      <td>16019</td>\n",
       "      <td>16819</td>\n",
       "      <td>0.184867</td>\n",
       "      <td>0.505321</td>\n",
       "      <td>-0.543673</td>\n",
       "      <td>0.664037</td>\n",
       "      <td>1.750686</td>\n",
       "      <td>-1.174987</td>\n",
       "      <td>...</td>\n",
       "      <td>1.501086</td>\n",
       "      <td>1.613358</td>\n",
       "      <td>0.117244</td>\n",
       "      <td>-1.244452</td>\n",
       "      <td>0.706303</td>\n",
       "      <td>-1.110772</td>\n",
       "      <td>-0.050154</td>\n",
       "      <td>-0.706303</td>\n",
       "      <td>-0.288018</td>\n",
       "      <td>-0.664037</td>\n",
       "    </tr>\n",
       "    <tr>\n",
       "      <th>1</th>\n",
       "      <td>Peak2</td>\n",
       "      <td>1</td>\n",
       "      <td>28870</td>\n",
       "      <td>29662</td>\n",
       "      <td>-0.841621</td>\n",
       "      <td>0.543673</td>\n",
       "      <td>0.749869</td>\n",
       "      <td>-1.932212</td>\n",
       "      <td>0.505321</td>\n",
       "      <td>-0.016712</td>\n",
       "      <td>...</td>\n",
       "      <td>0.358459</td>\n",
       "      <td>1.050837</td>\n",
       "      <td>0.218979</td>\n",
       "      <td>-0.050154</td>\n",
       "      <td>1.932212</td>\n",
       "      <td>-0.749869</td>\n",
       "      <td>-0.467699</td>\n",
       "      <td>-1.405072</td>\n",
       "      <td>-0.150969</td>\n",
       "      <td>-0.117244</td>\n",
       "    </tr>\n",
       "    <tr>\n",
       "      <th>2</th>\n",
       "      <td>Peak3</td>\n",
       "      <td>1</td>\n",
       "      <td>265673</td>\n",
       "      <td>266353</td>\n",
       "      <td>0.794909</td>\n",
       "      <td>-0.841621</td>\n",
       "      <td>1.050837</td>\n",
       "      <td>0.253347</td>\n",
       "      <td>2.216363</td>\n",
       "      <td>0.218979</td>\n",
       "      <td>...</td>\n",
       "      <td>0.941075</td>\n",
       "      <td>-0.794909</td>\n",
       "      <td>-0.706303</td>\n",
       "      <td>-0.543673</td>\n",
       "      <td>-1.405072</td>\n",
       "      <td>-0.253347</td>\n",
       "      <td>0.664037</td>\n",
       "      <td>0.841621</td>\n",
       "      <td>-0.394336</td>\n",
       "      <td>-1.050837</td>\n",
       "    </tr>\n",
       "    <tr>\n",
       "      <th>3</th>\n",
       "      <td>Peak4</td>\n",
       "      <td>1</td>\n",
       "      <td>267734</td>\n",
       "      <td>268295</td>\n",
       "      <td>-0.841621</td>\n",
       "      <td>0.323038</td>\n",
       "      <td>0.543673</td>\n",
       "      <td>-0.288018</td>\n",
       "      <td>-1.320504</td>\n",
       "      <td>-0.050154</td>\n",
       "      <td>...</td>\n",
       "      <td>0.467699</td>\n",
       "      <td>1.244452</td>\n",
       "      <td>-0.430727</td>\n",
       "      <td>1.750686</td>\n",
       "      <td>1.932212</td>\n",
       "      <td>-0.543673</td>\n",
       "      <td>0.050154</td>\n",
       "      <td>0.622926</td>\n",
       "      <td>0.218979</td>\n",
       "      <td>0.117244</td>\n",
       "    </tr>\n",
       "    <tr>\n",
       "      <th>4</th>\n",
       "      <td>Peak5</td>\n",
       "      <td>1</td>\n",
       "      <td>629625</td>\n",
       "      <td>630407</td>\n",
       "      <td>-1.405072</td>\n",
       "      <td>0.794909</td>\n",
       "      <td>-0.794909</td>\n",
       "      <td>0.218979</td>\n",
       "      <td>-1.750686</td>\n",
       "      <td>0.941075</td>\n",
       "      <td>...</td>\n",
       "      <td>-0.358459</td>\n",
       "      <td>2.216363</td>\n",
       "      <td>-0.582842</td>\n",
       "      <td>0.505321</td>\n",
       "      <td>-0.543673</td>\n",
       "      <td>-0.430727</td>\n",
       "      <td>-0.150969</td>\n",
       "      <td>0.749869</td>\n",
       "      <td>0.050154</td>\n",
       "      <td>-1.501086</td>\n",
       "    </tr>\n",
       "  </tbody>\n",
       "</table>\n",
       "<p>5 rows × 78 columns</p>\n",
       "</div>"
      ],
      "text/plain": [
       "    PEAK  CHR   START     END   HG00113   HG00246   HG00106   HG00138  \\\n",
       "0  Peak1    1   16019   16819  0.184867  0.505321 -0.543673  0.664037   \n",
       "1  Peak2    1   28870   29662 -0.841621  0.543673  0.749869 -1.932212   \n",
       "2  Peak3    1  265673  266353  0.794909 -0.841621  1.050837  0.253347   \n",
       "3  Peak4    1  267734  268295 -0.841621  0.323038  0.543673 -0.288018   \n",
       "4  Peak5    1  629625  630407 -1.405072  0.794909 -0.794909  0.218979   \n",
       "\n",
       "    HG00112   HG00247    ...      HG00136   HG00155   HG00263   HG00156  \\\n",
       "0  1.750686 -1.174987    ...     1.501086  1.613358  0.117244 -1.244452   \n",
       "1  0.505321 -0.016712    ...     0.358459  1.050837  0.218979 -0.050154   \n",
       "2  2.216363  0.218979    ...     0.941075 -0.794909 -0.706303 -0.543673   \n",
       "3 -1.320504 -0.050154    ...     0.467699  1.244452 -0.430727  1.750686   \n",
       "4 -1.750686  0.941075    ...    -0.358459  2.216363 -0.582842  0.505321   \n",
       "\n",
       "    HG00135   HG00120   HG00143   HG00157   HG00121   HG00142  \n",
       "0  0.706303 -1.110772 -0.050154 -0.706303 -0.288018 -0.664037  \n",
       "1  1.932212 -0.749869 -0.467699 -1.405072 -0.150969 -0.117244  \n",
       "2 -1.405072 -0.253347  0.664037  0.841621 -0.394336 -1.050837  \n",
       "3  1.932212 -0.543673  0.050154  0.622926  0.218979  0.117244  \n",
       "4 -0.543673 -0.430727 -0.150969  0.749869  0.050154 -1.501086  \n",
       "\n",
       "[5 rows x 78 columns]"
      ]
     },
     "execution_count": 9,
     "metadata": {},
     "output_type": "execute_result"
    }
   ],
   "source": [
    "centered_data.head()"
   ]
  },
  {
   "cell_type": "code",
   "execution_count": 6,
   "metadata": {},
   "outputs": [
    {
     "data": {
      "image/png": "[encoded data removed]",
      "text/plain": [
       "<Figure size 432x288 with 1 Axes>"
      ]
     },
     "metadata": {},
     "output_type": "display_data"
    }
   ],
   "source": [
    "plt.figure()\n",
    "plt.hist(centered_data[samples[6]])\n",
    "plt.show()\n",
    "plt.close()"
   ]
  },
  {
   "cell_type": "code",
   "execution_count": 7,
   "metadata": {
    "scrolled": true
   },
   "outputs": [
    {
     "data": {
      "image/png": "[encoded data removed]",
      "text/plain": [
       "<Figure size 432x288 with 1 Axes>"
      ]
     },
     "metadata": {},
     "output_type": "display_data"
    }
   ],
   "source": [
    "pca = PCA(n_components=50)\n",
    "pca.fit(centered_data[samples].transpose())\n",
    "\n",
    "from matplotlib import pyplot as plt\n",
    "\n",
    "sns.set(font_scale=0.9)\n",
    "sns.set_style('whitegrid')\n",
    "\n",
    "plt.figure()\n",
    "plt.plot(range(1, 51), pca.explained_variance_ratio_[:50], label = 'True')\n",
    "\n",
    "plt.legend()\n",
    "plt.xlabel('Number of PCs',size=15)\n",
    "plt.ylabel('Ratio of explained variance', size = 15)\n",
    "plt.show()\n",
    "plt.close()"
   ]
  },
  {
   "cell_type": "code",
   "execution_count": 8,
   "metadata": {
    "scrolled": true
   },
   "outputs": [],
   "source": [
    "from sklearn.linear_model import LinearRegression\n",
    "if 1:\n",
    "    PCA_k = 10\n",
    "    pcs = pca.transform(centered_data[samples].transpose())\n",
    "    \n",
    "    reg = LinearRegression().fit(pcs[:, :PCA_k], centered_data[samples].transpose())\n",
    "    dat = centered_data[samples] - np.dot(reg.coef_, pcs[:, :PCA_k].transpose())\n"
   ]
  },
  {
   "cell_type": "code",
   "execution_count": 9,
   "metadata": {},
   "outputs": [
    {
     "data": {
      "image/png": "[encoded data removed]",
      "text/plain": [
       "<Figure size 432x288 with 1 Axes>"
      ]
     },
     "metadata": {},
     "output_type": "display_data"
    },
    {
     "data": {
      "image/png": "[encoded data removed]",
      "text/plain": [
       "<Figure size 432x288 with 1 Axes>"
      ]
     },
     "metadata": {},
     "output_type": "display_data"
    }
   ],
   "source": [
    "plt.figure()\n",
    "plt.hist(dat[samples[5]])\n",
    "plt.show()\n",
    "plt.close()\n",
    "\n",
    "plt.figure()\n",
    "plt.hist(dat[samples].iloc[1231])\n",
    "plt.show()\n",
    "plt.close()"
   ]
  },
  {
   "cell_type": "code",
   "execution_count": 10,
   "metadata": {
    "scrolled": true
   },
   "outputs": [],
   "source": [
    "for col in ['PEAK','CHR', 'START', 'END']:\n",
    "    dat[col] = centered_data[col]"
   ]
  },
  {
   "cell_type": "code",
   "execution_count": 14,
   "metadata": {
    "scrolled": true
   },
   "outputs": [
    {
     "name": "stdout",
     "output_type": "stream",
     "text": [
      "22\n"
     ]
    }
   ],
   "source": [
    "#centered_data[samples].to_csv('%s/peak_by_sample_matrix_RPKM_corrected.txt' % (PEAK_DIR), sep='\\t')\n",
    "\n",
    "for i in range(22,23):\n",
    "    print(i)\n",
    "    df_save = dat[dat['CHR'] == i]\n",
    "    df_save.to_csv('%s/peak_by_sample_matrix_RPKM_corrected_chromosome%d.txt' % (PEAK_DIR, i), sep='\\t', index = False)\n",
    "    df_save[['PEAK'] + samples].to_csv('%s/peak_by_sample_matrix_RPKM_corrected_chromosome%d_values.txt' % (PEAK_DIR, i), sep='\\t', index = False)\n",
    "    df_save[['PEAK','CHR', 'START', 'END']].to_csv('%s/peak_by_sample_matrix_RPKM_corrected_chromosome%d_loc.bed'% (PEAK_DIR, i), sep='\\t', index=False)"
   ]
  },
  {
   "cell_type": "code",
   "execution_count": 13,
   "metadata": {},
   "outputs": [
    {
     "data": {
      "text/html": [
       "<div>\n",
       "<style scoped>\n",
       "    .dataframe tbody tr th:only-of-type {\n",
       "        vertical-align: middle;\n",
       "    }\n",
       "\n",
       "    .dataframe tbody tr th {\n",
       "        vertical-align: top;\n",
       "    }\n",
       "\n",
       "    .dataframe thead th {\n",
       "        text-align: right;\n",
       "    }\n",
       "</style>\n",
       "<table border=\"1\" class=\"dataframe\">\n",
       "  <thead>\n",
       "    <tr style=\"text-align: right;\">\n",
       "      <th></th>\n",
       "      <th>HG00096</th>\n",
       "      <th>HG00098</th>\n",
       "      <th>HG00101</th>\n",
       "      <th>HG00102</th>\n",
       "      <th>HG00103</th>\n",
       "      <th>HG00105</th>\n",
       "      <th>HG00106</th>\n",
       "      <th>HG00107</th>\n",
       "      <th>HG00108</th>\n",
       "      <th>HG00109</th>\n",
       "      <th>...</th>\n",
       "      <th>HG00264</th>\n",
       "      <th>HG00265</th>\n",
       "      <th>HG01789</th>\n",
       "      <th>HG01790</th>\n",
       "      <th>HG01791</th>\n",
       "      <th>HG02215</th>\n",
       "      <th>PEAK</th>\n",
       "      <th>CHR</th>\n",
       "      <th>START</th>\n",
       "      <th>END</th>\n",
       "    </tr>\n",
       "  </thead>\n",
       "  <tbody>\n",
       "    <tr>\n",
       "      <th>274487</th>\n",
       "      <td>0.146381</td>\n",
       "      <td>-1.508869</td>\n",
       "      <td>-0.687558</td>\n",
       "      <td>0.203006</td>\n",
       "      <td>0.589470</td>\n",
       "      <td>-0.321853</td>\n",
       "      <td>-0.582892</td>\n",
       "      <td>1.157584</td>\n",
       "      <td>0.160400</td>\n",
       "      <td>1.123149</td>\n",
       "      <td>...</td>\n",
       "      <td>-0.448294</td>\n",
       "      <td>-1.243967</td>\n",
       "      <td>-0.593036</td>\n",
       "      <td>0.067679</td>\n",
       "      <td>-0.088572</td>\n",
       "      <td>0.194639</td>\n",
       "      <td>Peak274739</td>\n",
       "      <td>22</td>\n",
       "      <td>15881028</td>\n",
       "      <td>15882174</td>\n",
       "    </tr>\n",
       "    <tr>\n",
       "      <th>274488</th>\n",
       "      <td>0.066938</td>\n",
       "      <td>-0.384506</td>\n",
       "      <td>1.352541</td>\n",
       "      <td>-0.783229</td>\n",
       "      <td>0.929015</td>\n",
       "      <td>0.472737</td>\n",
       "      <td>-0.419629</td>\n",
       "      <td>0.798033</td>\n",
       "      <td>0.822962</td>\n",
       "      <td>-0.140953</td>\n",
       "      <td>...</td>\n",
       "      <td>-0.073866</td>\n",
       "      <td>-0.994623</td>\n",
       "      <td>-1.030900</td>\n",
       "      <td>-0.198794</td>\n",
       "      <td>0.053486</td>\n",
       "      <td>1.600652</td>\n",
       "      <td>Peak274740</td>\n",
       "      <td>22</td>\n",
       "      <td>15871166</td>\n",
       "      <td>15872051</td>\n",
       "    </tr>\n",
       "    <tr>\n",
       "      <th>274489</th>\n",
       "      <td>0.554465</td>\n",
       "      <td>-0.213885</td>\n",
       "      <td>0.280520</td>\n",
       "      <td>-1.559696</td>\n",
       "      <td>-0.585558</td>\n",
       "      <td>1.346639</td>\n",
       "      <td>-0.503129</td>\n",
       "      <td>1.311954</td>\n",
       "      <td>1.345538</td>\n",
       "      <td>0.162052</td>\n",
       "      <td>...</td>\n",
       "      <td>-0.124657</td>\n",
       "      <td>0.630281</td>\n",
       "      <td>-0.624519</td>\n",
       "      <td>0.718034</td>\n",
       "      <td>1.022820</td>\n",
       "      <td>-0.077690</td>\n",
       "      <td>Peak274741</td>\n",
       "      <td>22</td>\n",
       "      <td>15810981</td>\n",
       "      <td>15811642</td>\n",
       "    </tr>\n",
       "    <tr>\n",
       "      <th>274490</th>\n",
       "      <td>0.126785</td>\n",
       "      <td>0.190761</td>\n",
       "      <td>0.680684</td>\n",
       "      <td>-0.208159</td>\n",
       "      <td>-0.804455</td>\n",
       "      <td>1.319965</td>\n",
       "      <td>-1.222379</td>\n",
       "      <td>0.161529</td>\n",
       "      <td>-1.194418</td>\n",
       "      <td>1.134042</td>\n",
       "      <td>...</td>\n",
       "      <td>-0.681452</td>\n",
       "      <td>0.546044</td>\n",
       "      <td>-0.986326</td>\n",
       "      <td>0.950218</td>\n",
       "      <td>1.826429</td>\n",
       "      <td>-0.085213</td>\n",
       "      <td>Peak274742</td>\n",
       "      <td>22</td>\n",
       "      <td>15785178</td>\n",
       "      <td>15785896</td>\n",
       "    </tr>\n",
       "    <tr>\n",
       "      <th>274491</th>\n",
       "      <td>-0.726864</td>\n",
       "      <td>0.174281</td>\n",
       "      <td>0.331714</td>\n",
       "      <td>-1.853481</td>\n",
       "      <td>0.469187</td>\n",
       "      <td>0.400321</td>\n",
       "      <td>-0.835650</td>\n",
       "      <td>0.480118</td>\n",
       "      <td>1.068623</td>\n",
       "      <td>-1.208393</td>\n",
       "      <td>...</td>\n",
       "      <td>-1.115617</td>\n",
       "      <td>-0.759359</td>\n",
       "      <td>0.336317</td>\n",
       "      <td>-1.411756</td>\n",
       "      <td>1.340575</td>\n",
       "      <td>0.251239</td>\n",
       "      <td>Peak274743</td>\n",
       "      <td>22</td>\n",
       "      <td>15689100</td>\n",
       "      <td>15689895</td>\n",
       "    </tr>\n",
       "  </tbody>\n",
       "</table>\n",
       "<p>5 rows × 78 columns</p>\n",
       "</div>"
      ],
      "text/plain": [
       "         HG00096   HG00098   HG00101   HG00102   HG00103   HG00105   HG00106  \\\n",
       "274487  0.146381 -1.508869 -0.687558  0.203006  0.589470 -0.321853 -0.582892   \n",
       "274488  0.066938 -0.384506  1.352541 -0.783229  0.929015  0.472737 -0.419629   \n",
       "274489  0.554465 -0.213885  0.280520 -1.559696 -0.585558  1.346639 -0.503129   \n",
       "274490  0.126785  0.190761  0.680684 -0.208159 -0.804455  1.319965 -1.222379   \n",
       "274491 -0.726864  0.174281  0.331714 -1.853481  0.469187  0.400321 -0.835650   \n",
       "\n",
       "         HG00107   HG00108   HG00109    ...      HG00264   HG00265   HG01789  \\\n",
       "274487  1.157584  0.160400  1.123149    ...    -0.448294 -1.243967 -0.593036   \n",
       "274488  0.798033  0.822962 -0.140953    ...    -0.073866 -0.994623 -1.030900   \n",
       "274489  1.311954  1.345538  0.162052    ...    -0.124657  0.630281 -0.624519   \n",
       "274490  0.161529 -1.194418  1.134042    ...    -0.681452  0.546044 -0.986326   \n",
       "274491  0.480118  1.068623 -1.208393    ...    -1.115617 -0.759359  0.336317   \n",
       "\n",
       "         HG01790   HG01791   HG02215        PEAK  CHR     START       END  \n",
       "274487  0.067679 -0.088572  0.194639  Peak274739   22  15881028  15882174  \n",
       "274488 -0.198794  0.053486  1.600652  Peak274740   22  15871166  15872051  \n",
       "274489  0.718034  1.022820 -0.077690  Peak274741   22  15810981  15811642  \n",
       "274490  0.950218  1.826429 -0.085213  Peak274742   22  15785178  15785896  \n",
       "274491 -1.411756  1.340575  0.251239  Peak274743   22  15689100  15689895  \n",
       "\n",
       "[5 rows x 78 columns]"
      ]
     },
     "execution_count": 13,
     "metadata": {},
     "output_type": "execute_result"
    }
   ],
   "source": [
    "df_save.head()"
   ]
  },
  {
   "cell_type": "code",
   "execution_count": null,
   "metadata": {},
   "outputs": [],
   "source": []
  },
  {
   "cell_type": "code",
   "execution_count": 21,
   "metadata": {},
   "outputs": [],
   "source": [
    "pca_save = pcs[:, :PCA_k].transpose()\n",
    "pca_save = pd.DataFrame(pca_save)\n",
    "pca_save.index = ['PC%d' % i for i in range(1, PCA_k+1)] \n",
    "pca_save.columns = samples\n",
    "pca_save.to_csv('%s/PCs.txt' % PEAK_DIR, sep='\\t')"
   ]
  },
  {
   "cell_type": "code",
   "execution_count": null,
   "metadata": {},
   "outputs": [],
   "source": []
  },
  {
   "cell_type": "code",
   "execution_count": 12,
   "metadata": {},
   "outputs": [],
   "source": [
    "### Examine peaks from each sample that overlap with the union set of peaks\n",
    "\n",
    "sum_overlap_bp = []\n",
    "for s in samples:\n",
    "    overlap_dat = pd.read_csv('%s/%s_overlap_with_union_set.bed' %(PEAK_DIR, s), \n",
    "                              header = None, sep='\\t', usecols=[8])\n",
    "    sum_overlap_bp.append(np.sum(overlap_dat[8]))"
   ]
  },
  {
   "cell_type": "code",
   "execution_count": 17,
   "metadata": {},
   "outputs": [
    {
     "data": {
      "image/png": "[encoded data removed]",
      "text/plain": [
       "<Figure size 432x288 with 1 Axes>"
      ]
     },
     "metadata": {},
     "output_type": "display_data"
    }
   ],
   "source": [
    "plt.figure()\n",
    "plt.hist(sum_overlap_bp)\n",
    "plt.title('Distribution of overlap(bp)\\n in the union set of peaks\\n across samples')\n",
    "plt.show()\n",
    "plt.close()"
   ]
  },
  {
   "cell_type": "code",
   "execution_count": null,
   "metadata": {},
   "outputs": [],
   "source": []
  },
  {
   "cell_type": "code",
   "execution_count": 42,
   "metadata": {},
   "outputs": [
    {
     "data": {
      "image/png": "[encoded data removed]",
      "text/plain": [
       "<Figure size 432x288 with 2 Axes>"
      ]
     },
     "metadata": {},
     "output_type": "display_data"
    }
   ],
   "source": [
    "import seaborn as sns\n",
    "\n",
    "df_plot = pd.DataFrame({\"pc1\": pca.components_[0,:], \n",
    "                        \"pc2\": pca.components_[1,:], \n",
    "                        \"overlap_bp\": np.array(sum_overlap_bp) / 1e6})\n",
    "\n",
    "cmap = sns.cubehelix_palette(as_cmap=True)\n",
    "\n",
    "f, ax = plt.subplots()\n",
    "points = ax.scatter(df_plot['pc1'], \n",
    "                    df_plot['pc2'], \n",
    "                    c=df_plot['overlap_bp'], \n",
    "                    s=50, \n",
    "                    cmap=cmap)\n",
    "f.colorbar(points)\n",
    "\n",
    "plt.xlabel('PC1')\n",
    "plt.ylabel('PC2')\n",
    "\n",
    "plt.show()\n",
    "plt.close()"
   ]
  },
  {
   "cell_type": "code",
   "execution_count": 11,
   "metadata": {
    "scrolled": true
   },
   "outputs": [],
   "source": [
    "from sklearn.linear_model import LinearRegression\n",
    "\n",
    "def remove_PCs(PCA_k, centered_dat):\n",
    "    \n",
    "    RPKM_DF = pd.read_csv('%s/peak_by_sample_matrix_RPKM.txt' % (PEAK_DIR), sep=' ')\n",
    "    \n",
    "    pca = PCA(n_components=50)\n",
    "    pca.fit(centered_dat)\n",
    "\n",
    "    reg = LinearRegression().fit(pca.components_[:PCA_k, :].transpose(), centered_dat.transpose())\n",
    "    corrected_dat = centered_dat - np.dot(reg.coef_, pca.components_[:PCA_k, :])\n",
    "\n",
    "    corrected_dat = pd.DataFrame(corrected_dat)\n",
    "    corrected_dat.columns = samples\n",
    "    corrected_dat['CHR'] = np.array(RPKM_DF['CHR'])\n",
    "    corrected_dat['START'] = np.array(RPKM_DF['START'])\n",
    "    corrected_dat['END'] = np.array(RPKM_DF['END'])\n",
    "    corrected_dat['PEAK'] = np.array(RPKM_DF['PEAK'])\n",
    "    corrected_dat = corrected_dat[['PEAK', 'CHR', 'START', 'END']  + samples]\n",
    "    \n",
    "    return corrected_dat"
   ]
  },
  {
   "cell_type": "code",
   "execution_count": 43,
   "metadata": {},
   "outputs": [
    {
     "name": "stdout",
     "output_type": "stream",
     "text": [
      "chromosome1\n",
      "chromosome2\n",
      "chromosome3\n",
      "chromosome4\n",
      "chromosome5\n",
      "chromosome6\n",
      "chromosome7\n",
      "chromosome8\n",
      "chromosome9\n",
      "chromosome10\n",
      "chromosome11\n",
      "chromosome12\n",
      "chromosome13\n",
      "chromosome14\n",
      "chromosome15\n",
      "chromosome16\n",
      "chromosome17\n",
      "chromosome18\n",
      "chromosome19\n",
      "chromosome20\n",
      "chromosome21\n",
      "chromosome22\n"
     ]
    }
   ],
   "source": [
    "corrected_dat = remove_PCs(PCA_k=10, centered_dat = norm_df)\n",
    "for CHROMOSOME in range(1,23):\n",
    "    print('chromosome%d' % CHROMOSOME)\n",
    "    corrected_peak_chr = corrected_dat[corrected_dat['CHR'] == CHROMOSOME]\n",
    "    corrected_peak_chr.to_csv('%s/peak_by_sample_matrix_corrected_chr%d.txt' % (PEAK_DIR, CHROMOSOME), sep='\\t', index = False)\n",
    "    \n",
    "    "
   ]
  },
  {
   "cell_type": "code",
   "execution_count": null,
   "metadata": {},
   "outputs": [],
   "source": []
  },
  {
   "cell_type": "code",
   "execution_count": null,
   "metadata": {},
   "outputs": [],
   "source": []
  },
  {
   "cell_type": "code",
   "execution_count": 95,
   "metadata": {},
   "outputs": [
    {
     "data": {
      "text/html": [
       "<div>\n",
       "<style scoped>\n",
       "    .dataframe tbody tr th:only-of-type {\n",
       "        vertical-align: middle;\n",
       "    }\n",
       "\n",
       "    .dataframe tbody tr th {\n",
       "        vertical-align: top;\n",
       "    }\n",
       "\n",
       "    .dataframe thead th {\n",
       "        text-align: right;\n",
       "    }\n",
       "</style>\n",
       "<table border=\"1\" class=\"dataframe\">\n",
       "  <thead>\n",
       "    <tr style=\"text-align: right;\">\n",
       "      <th></th>\n",
       "      <th>HG00096</th>\n",
       "      <th>HG00097</th>\n",
       "      <th>HG00098</th>\n",
       "      <th>HG00099</th>\n",
       "      <th>HG00100</th>\n",
       "      <th>HG00101</th>\n",
       "      <th>HG00102</th>\n",
       "      <th>HG00103</th>\n",
       "      <th>HG00104</th>\n",
       "      <th>HG00105</th>\n",
       "      <th>...</th>\n",
       "      <th>HG00261</th>\n",
       "      <th>HG00262</th>\n",
       "      <th>HG00263</th>\n",
       "      <th>HG00264</th>\n",
       "      <th>HG00265</th>\n",
       "      <th>HG01334</th>\n",
       "      <th>HG01789</th>\n",
       "      <th>HG01790</th>\n",
       "      <th>HG01791</th>\n",
       "      <th>HG02215</th>\n",
       "    </tr>\n",
       "    <tr>\n",
       "      <th>Peak</th>\n",
       "      <th></th>\n",
       "      <th></th>\n",
       "      <th></th>\n",
       "      <th></th>\n",
       "      <th></th>\n",
       "      <th></th>\n",
       "      <th></th>\n",
       "      <th></th>\n",
       "      <th></th>\n",
       "      <th></th>\n",
       "      <th></th>\n",
       "      <th></th>\n",
       "      <th></th>\n",
       "      <th></th>\n",
       "      <th></th>\n",
       "      <th></th>\n",
       "      <th></th>\n",
       "      <th></th>\n",
       "      <th></th>\n",
       "      <th></th>\n",
       "      <th></th>\n",
       "    </tr>\n",
       "  </thead>\n",
       "  <tbody>\n",
       "    <tr>\n",
       "      <th>Peak1</th>\n",
       "      <td>1.695769</td>\n",
       "      <td>1.570533</td>\n",
       "      <td>1.490504</td>\n",
       "      <td>1.703762</td>\n",
       "      <td>1.688359</td>\n",
       "      <td>1.330474</td>\n",
       "      <td>1.685836</td>\n",
       "      <td>1.773021</td>\n",
       "      <td>2.159967</td>\n",
       "      <td>1.239699</td>\n",
       "      <td>...</td>\n",
       "      <td>1.952655</td>\n",
       "      <td>1.668954</td>\n",
       "      <td>1.641891</td>\n",
       "      <td>1.117770</td>\n",
       "      <td>1.291020</td>\n",
       "      <td>1.380126</td>\n",
       "      <td>1.312324</td>\n",
       "      <td>1.776550</td>\n",
       "      <td>1.758983</td>\n",
       "      <td>1.398048</td>\n",
       "    </tr>\n",
       "    <tr>\n",
       "      <th>Peak2</th>\n",
       "      <td>-0.344096</td>\n",
       "      <td>-0.701356</td>\n",
       "      <td>0.080531</td>\n",
       "      <td>0.178028</td>\n",
       "      <td>-0.268069</td>\n",
       "      <td>0.115879</td>\n",
       "      <td>0.168823</td>\n",
       "      <td>-0.468186</td>\n",
       "      <td>-0.040945</td>\n",
       "      <td>-0.488464</td>\n",
       "      <td>...</td>\n",
       "      <td>0.006590</td>\n",
       "      <td>-0.228624</td>\n",
       "      <td>0.111615</td>\n",
       "      <td>-0.161592</td>\n",
       "      <td>-0.148619</td>\n",
       "      <td>-0.690486</td>\n",
       "      <td>-0.510854</td>\n",
       "      <td>0.174147</td>\n",
       "      <td>-0.285877</td>\n",
       "      <td>-0.426381</td>\n",
       "    </tr>\n",
       "    <tr>\n",
       "      <th>Peak3</th>\n",
       "      <td>0.318571</td>\n",
       "      <td>0.078653</td>\n",
       "      <td>0.394784</td>\n",
       "      <td>1.056443</td>\n",
       "      <td>0.323115</td>\n",
       "      <td>0.131788</td>\n",
       "      <td>0.183197</td>\n",
       "      <td>-0.068568</td>\n",
       "      <td>0.258109</td>\n",
       "      <td>0.241638</td>\n",
       "      <td>...</td>\n",
       "      <td>-0.218414</td>\n",
       "      <td>0.531880</td>\n",
       "      <td>0.492945</td>\n",
       "      <td>-0.470453</td>\n",
       "      <td>-0.200327</td>\n",
       "      <td>0.182581</td>\n",
       "      <td>-1.005384</td>\n",
       "      <td>0.134326</td>\n",
       "      <td>-0.189854</td>\n",
       "      <td>-0.145337</td>\n",
       "    </tr>\n",
       "    <tr>\n",
       "      <th>Peak4</th>\n",
       "      <td>0.881884</td>\n",
       "      <td>0.923832</td>\n",
       "      <td>1.057201</td>\n",
       "      <td>1.083935</td>\n",
       "      <td>0.807853</td>\n",
       "      <td>0.434909</td>\n",
       "      <td>0.946906</td>\n",
       "      <td>0.574677</td>\n",
       "      <td>0.918121</td>\n",
       "      <td>0.558139</td>\n",
       "      <td>...</td>\n",
       "      <td>1.215647</td>\n",
       "      <td>1.446861</td>\n",
       "      <td>1.238560</td>\n",
       "      <td>0.690928</td>\n",
       "      <td>0.538989</td>\n",
       "      <td>0.809185</td>\n",
       "      <td>0.463111</td>\n",
       "      <td>1.736516</td>\n",
       "      <td>1.116732</td>\n",
       "      <td>1.647839</td>\n",
       "    </tr>\n",
       "    <tr>\n",
       "      <th>Peak5</th>\n",
       "      <td>1.140135</td>\n",
       "      <td>1.884047</td>\n",
       "      <td>1.296269</td>\n",
       "      <td>0.749717</td>\n",
       "      <td>1.078967</td>\n",
       "      <td>1.455144</td>\n",
       "      <td>1.279002</td>\n",
       "      <td>1.245555</td>\n",
       "      <td>1.298612</td>\n",
       "      <td>1.378742</td>\n",
       "      <td>...</td>\n",
       "      <td>0.275345</td>\n",
       "      <td>1.421700</td>\n",
       "      <td>1.701907</td>\n",
       "      <td>0.898224</td>\n",
       "      <td>0.969189</td>\n",
       "      <td>1.470762</td>\n",
       "      <td>0.884302</td>\n",
       "      <td>1.785113</td>\n",
       "      <td>1.336738</td>\n",
       "      <td>1.687654</td>\n",
       "    </tr>\n",
       "  </tbody>\n",
       "</table>\n",
       "<p>5 rows × 100 columns</p>\n",
       "</div>"
      ],
      "text/plain": [
       "        HG00096   HG00097   HG00098   HG00099   HG00100   HG00101   HG00102  \\\n",
       "Peak                                                                          \n",
       "Peak1  1.695769  1.570533  1.490504  1.703762  1.688359  1.330474  1.685836   \n",
       "Peak2 -0.344096 -0.701356  0.080531  0.178028 -0.268069  0.115879  0.168823   \n",
       "Peak3  0.318571  0.078653  0.394784  1.056443  0.323115  0.131788  0.183197   \n",
       "Peak4  0.881884  0.923832  1.057201  1.083935  0.807853  0.434909  0.946906   \n",
       "Peak5  1.140135  1.884047  1.296269  0.749717  1.078967  1.455144  1.279002   \n",
       "\n",
       "        HG00103   HG00104   HG00105    ...      HG00261   HG00262   HG00263  \\\n",
       "Peak                                   ...                                    \n",
       "Peak1  1.773021  2.159967  1.239699    ...     1.952655  1.668954  1.641891   \n",
       "Peak2 -0.468186 -0.040945 -0.488464    ...     0.006590 -0.228624  0.111615   \n",
       "Peak3 -0.068568  0.258109  0.241638    ...    -0.218414  0.531880  0.492945   \n",
       "Peak4  0.574677  0.918121  0.558139    ...     1.215647  1.446861  1.238560   \n",
       "Peak5  1.245555  1.298612  1.378742    ...     0.275345  1.421700  1.701907   \n",
       "\n",
       "        HG00264   HG00265   HG01334   HG01789   HG01790   HG01791   HG02215  \n",
       "Peak                                                                         \n",
       "Peak1  1.117770  1.291020  1.380126  1.312324  1.776550  1.758983  1.398048  \n",
       "Peak2 -0.161592 -0.148619 -0.690486 -0.510854  0.174147 -0.285877 -0.426381  \n",
       "Peak3 -0.470453 -0.200327  0.182581 -1.005384  0.134326 -0.189854 -0.145337  \n",
       "Peak4  0.690928  0.538989  0.809185  0.463111  1.736516  1.116732  1.647839  \n",
       "Peak5  0.898224  0.969189  1.470762  0.884302  1.785113  1.336738  1.687654  \n",
       "\n",
       "[5 rows x 100 columns]"
      ]
     },
     "execution_count": 95,
     "metadata": {},
     "output_type": "execute_result"
    }
   ],
   "source": [
    "### Correct FPKM from the paper\n",
    "\n",
    "fpkm = pd.read_csv('/work-zfs/abattle4/heyuan/Variant_calling/datasets/GBR/Zenodo/log_fpkm.tsv', sep='\\t')\n",
    "fpkm['Peak'] = ['Peak%d'%x for x in np.array(fpkm['Peak'])]\n",
    "fpkm = fpkm.set_index('Peak')\n",
    "fpkm.head()"
   ]
  },
  {
   "cell_type": "code",
   "execution_count": 28,
   "metadata": {},
   "outputs": [],
   "source": [
    "scaler = StandardScaler()\n",
    "centered_fpkm = scaler.fit_transform(fpkm)"
   ]
  },
  {
   "cell_type": "code",
   "execution_count": 34,
   "metadata": {},
   "outputs": [
    {
     "data": {
      "image/png": "[encoded data removed]",
      "text/plain": [
       "<Figure size 432x288 with 1 Axes>"
      ]
     },
     "metadata": {},
     "output_type": "display_data"
    }
   ],
   "source": [
    "pca = PCA(n_components=50)\n",
    "pca.fit(centered_fpkm.transpose())\n",
    "\n",
    "plt.figure()\n",
    "plt.plot(range(1,51), pca.explained_variance_ratio_)\n",
    "plt.xlabel('Number of PCs')\n",
    "plt.ylabel('Ratio of explained variance')\n",
    "plt.show()"
   ]
  },
  {
   "cell_type": "code",
   "execution_count": 36,
   "metadata": {},
   "outputs": [
    {
     "data": {
      "text/plain": [
       "(50, 277128)"
      ]
     },
     "execution_count": 36,
     "metadata": {},
     "output_type": "execute_result"
    }
   ],
   "source": [
    "pca.components_.shape"
   ]
  },
  {
   "cell_type": "code",
   "execution_count": 96,
   "metadata": {},
   "outputs": [
    {
     "data": {
      "text/html": [
       "<div>\n",
       "<style scoped>\n",
       "    .dataframe tbody tr th:only-of-type {\n",
       "        vertical-align: middle;\n",
       "    }\n",
       "\n",
       "    .dataframe tbody tr th {\n",
       "        vertical-align: top;\n",
       "    }\n",
       "\n",
       "    .dataframe thead th {\n",
       "        text-align: right;\n",
       "    }\n",
       "</style>\n",
       "<table border=\"1\" class=\"dataframe\">\n",
       "  <thead>\n",
       "    <tr style=\"text-align: right;\">\n",
       "      <th></th>\n",
       "      <th>0</th>\n",
       "      <th>1</th>\n",
       "      <th>2</th>\n",
       "      <th>3</th>\n",
       "    </tr>\n",
       "  </thead>\n",
       "  <tbody>\n",
       "    <tr>\n",
       "      <th>0</th>\n",
       "      <td>1</td>\n",
       "      <td>16019</td>\n",
       "      <td>16819</td>\n",
       "      <td>Peak2</td>\n",
       "    </tr>\n",
       "    <tr>\n",
       "      <th>1</th>\n",
       "      <td>1</td>\n",
       "      <td>28870</td>\n",
       "      <td>29662</td>\n",
       "      <td>Peak3</td>\n",
       "    </tr>\n",
       "    <tr>\n",
       "      <th>2</th>\n",
       "      <td>1</td>\n",
       "      <td>265673</td>\n",
       "      <td>266353</td>\n",
       "      <td>Peak4</td>\n",
       "    </tr>\n",
       "    <tr>\n",
       "      <th>3</th>\n",
       "      <td>1</td>\n",
       "      <td>267734</td>\n",
       "      <td>268295</td>\n",
       "      <td>Peak5</td>\n",
       "    </tr>\n",
       "    <tr>\n",
       "      <th>4</th>\n",
       "      <td>1</td>\n",
       "      <td>629625</td>\n",
       "      <td>630407</td>\n",
       "      <td>Peak7</td>\n",
       "    </tr>\n",
       "  </tbody>\n",
       "</table>\n",
       "</div>"
      ],
      "text/plain": [
       "   0       1       2      3\n",
       "0  1   16019   16819  Peak2\n",
       "1  1   28870   29662  Peak3\n",
       "2  1  265673  266353  Peak4\n",
       "3  1  267734  268295  Peak5\n",
       "4  1  629625  630407  Peak7"
      ]
     },
     "execution_count": 96,
     "metadata": {},
     "output_type": "execute_result"
    }
   ],
   "source": [
    "peak_ID = pd.read_csv('//work-zfs/abattle4/heyuan/Variant_calling/datasets/GBR/Zenodo/peaks_loc_GRCh38.bed', sep='\\t', header=None)\n",
    "peak_ID.head()"
   ]
  },
  {
   "cell_type": "code",
   "execution_count": 97,
   "metadata": {},
   "outputs": [],
   "source": [
    "RPKM_dat = pd.read_csv('%s/peak_by_sample_matrix_RPKM.txt' % (PEAK_DIR), sep=' ')\n",
    "samples = [x for x in RPKM_dat.columns if x.startswith('HG')]"
   ]
  },
  {
   "cell_type": "code",
   "execution_count": 98,
   "metadata": {
    "scrolled": true
   },
   "outputs": [],
   "source": [
    "save_dir = '/work-zfs/abattle4/heyuan/Variant_calling/datasets/GBR/ATAC_seq/alignment_bowtie/Peaks/Zenodo/'\n",
    "fpkm = fpkm.loc[peak_ID[3]]\n",
    "for k in range(1,23):\n",
    "    peak_ID_save =  peak_ID[peak_ID[0] == str(k)]\n",
    "    fpkm_save = fpkm.loc[peak_ID_save[3]]\n",
    "    \n",
    "    peak_ID_save[[3,0,1,2]].to_csv('%s/chromosome%d_loc.bed' % (save_dir, k), sep='\\t', index = False)\n",
    "    fpkm_save[samples].to_csv('%s/chromosome%d_corrected_fpkm.txt' % (save_dir, k), sep='\\t')"
   ]
  },
  {
   "cell_type": "code",
   "execution_count": 144,
   "metadata": {},
   "outputs": [
    {
     "data": {
      "image/png": "[encoded data removed]",
      "text/plain": [
       "<Figure size 432x288 with 1 Axes>"
      ]
     },
     "metadata": {},
     "output_type": "display_data"
    },
    {
     "data": {
      "image/png": "[encoded data removed]",
      "text/plain": [
       "<Figure size 432x288 with 1 Axes>"
      ]
     },
     "metadata": {},
     "output_type": "display_data"
    }
   ],
   "source": [
    "plt.figure()\n",
    "plt.hist(fpkm[samples[5]])\n",
    "plt.show()\n",
    "plt.close()\n",
    "\n",
    "\n",
    "plt.figure()\n",
    "plt.hist(fpkm[samples].iloc[1231])\n",
    "plt.show()\n",
    "plt.close()"
   ]
  }
 ],
 "metadata": {
  "kernelspec": {
   "display_name": "Python [default]",
   "language": "python",
   "name": "python3"
  },
  "language_info": {
   "codemirror_mode": {
    "name": "ipython",
    "version": 3
   },
   "file_extension": ".py",
   "mimetype": "text/x-python",
   "name": "python",
   "nbconvert_exporter": "python",
   "pygments_lexer": "ipython3",
   "version": "3.6.5"
  }
 },
 "nbformat": 4,
 "nbformat_minor": 2
}
